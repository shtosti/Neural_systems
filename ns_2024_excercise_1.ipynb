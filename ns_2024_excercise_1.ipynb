{
  "nbformat": 4,
  "nbformat_minor": 0,
  "metadata": {
    "colab": {
      "provenance": [],
      "include_colab_link": true
    },
    "kernelspec": {
      "name": "python3",
      "display_name": "Python 3"
    },
    "language_info": {
      "name": "python"
    }
  },
  "cells": [
    {
      "cell_type": "markdown",
      "metadata": {
        "id": "view-in-github",
        "colab_type": "text"
      },
      "source": [
        "<a href=\"https://colab.research.google.com/github/shtosti/Neural_systems/blob/main/ns_2024_excercise_1.ipynb\" target=\"_parent\"><img src=\"https://colab.research.google.com/assets/colab-badge.svg\" alt=\"Open In Colab\"/></a>"
      ]
    },
    {
      "cell_type": "markdown",
      "source": [
        "## Task 1"
      ],
      "metadata": {
        "id": "OQnC7M5as5OR"
      }
    },
    {
      "cell_type": "code",
      "source": [],
      "metadata": {
        "id": "WFRd9tT6QsjH"
      },
      "execution_count": null,
      "outputs": []
    },
    {
      "cell_type": "markdown",
      "source": [
        "## Task 2"
      ],
      "metadata": {
        "id": "gRHCbUD4s8bv"
      }
    },
    {
      "cell_type": "code",
      "execution_count": null,
      "metadata": {
        "id": "YvZbp2IVQWuu"
      },
      "outputs": [],
      "source": [
        "#Task 2 code:\n",
        "import numpy as np\n",
        "import matplotlib.pyplot as plt\n",
        "\n",
        "# Neuron parameters\n",
        "resting_membrane_potential = -65.0\n",
        "firing_threshold = -55.0\n",
        "membrane_time_constant = 10.0\n",
        "input_current = 12.0\n",
        "\n",
        "# Simulation parameters\n",
        "duration = 20.0\n",
        "time_step = 0.001\n",
        "\n",
        "# Initialize variables\n",
        "time_values = np.arange(0, duration, time_step)\n",
        "membrane_potential_values = np.zeros_like(time_values)\n",
        "membrane_potential = resting_membrane_potential\n",
        "\n",
        "# Update membrane potential using forward Euler method -> Task 2a\n",
        "\n",
        "# Plot results\n",
        "plt.plot(time_values, membrane_potential_values, color='blue')\n",
        "plt.xlabel('Time')\n",
        "plt.ylabel('Membrane Potential')\n",
        "plt.title('Integrate-and-Fire Neuron Simulation')\n",
        "plt.grid(True)\n",
        "plt.show()\n"
      ]
    },
    {
      "cell_type": "markdown",
      "source": [
        "## Task 3"
      ],
      "metadata": {
        "id": "7yNZaZJis9-X"
      }
    },
    {
      "cell_type": "markdown",
      "source": [
        "### a)"
      ],
      "metadata": {
        "id": "7LiPB4BvtA_2"
      }
    },
    {
      "cell_type": "code",
      "source": [
        "#Task 3a code:\n",
        "import numpy as np\n",
        "import matplotlib.pyplot as plt\n",
        "\n",
        "def izhikevich_neuron(a, b, c, d, I, dt=0.01, duration=100):\n",
        "    \"\"\"\n",
        "    Simulate the Izhikevich neuron model.\n",
        "\n",
        "    Parameters:\n",
        "        a, b, c, d: Parameters of the neuron model.\n",
        "        I: Input current.\n",
        "        dt: Time step (ms).\n",
        "        duration: Duration of simulation (ms).\n",
        "\n",
        "    Returns:\n",
        "        v: Array of membrane potentials over time.\n",
        "    \"\"\"\n",
        "    num_steps = int(duration / dt)\n",
        "    v = np.zeros(num_steps)\n",
        "    u = np.zeros(num_steps)\n",
        "\n",
        "    # Task 3a -> implement here\n",
        "\n",
        "    return v\n",
        "\n",
        "# Find a,b,c,d for each\n",
        "parameters = {\n",
        "    'RS': (a,b,c,d),\n",
        "    'IB': (a,b,c,d),\n",
        "    'CH': (a,b,c,d),\n",
        "    'FS': (a,b,c,d),\n",
        "    'LTS': (a,b,c,d),\n",
        "    'TC': (a,b,c,d),\n",
        "    'RZ': (a,b,c,d),\n",
        "}\n",
        "\n",
        "I = 10\n",
        "plt.figure(figsize=(8, 8))\n",
        "for i, (neuron_type, params) in enumerate(parameters.items()):\n",
        "    a, b, c, d = params\n",
        "    membrane_potential = izhikevich_neuron(a, b, c, d, I)\n",
        "    plt.subplot(4, 2, i+1)\n",
        "    plt.plot(membrane_potential)\n",
        "    plt.title(neuron_type)\n",
        "    plt.xlabel('Time (ms)')\n",
        "    plt.ylabel('Membrane Potential (mV)')\n",
        "    plt.grid(True)\n",
        "\n",
        "plt.tight_layout()\n",
        "plt.show()\n"
      ],
      "metadata": {
        "id": "mVxg44O8Qn-r"
      },
      "execution_count": null,
      "outputs": []
    },
    {
      "cell_type": "markdown",
      "source": [
        "### b)"
      ],
      "metadata": {
        "id": "-j6gIhEJtC0Q"
      }
    },
    {
      "cell_type": "code",
      "source": [
        "#Task 3b code:\n",
        "import numpy as np\n",
        "import matplotlib.pyplot as plt\n",
        "\n",
        "# Parameters\n",
        "a = 0.02\n",
        "b = 0.25\n",
        "c = -65\n",
        "d = 0.05\n",
        "\n",
        "# Define Izhikevich neuron model\n",
        "def izhikevich_neuron(I, v_init=-65, u_init=0, dt=0.01, T=50):\n",
        "    # Task 3b -> implement using same method as 3a + count spikes\n",
        "    # Compute frequency from spike count and T\n",
        "    return s\n",
        "\n",
        "# Define range of input currents\n",
        "I_values = np.linspace(0, 100, 100)\n",
        "firing_rates = [izhikevich_neuron(I) for I in I_values]\n",
        "\n",
        "# Plot FI curve\n",
        "plt.plot(I_values, firing_rates)\n",
        "plt.title('Frequency-Current (FI) Curve')\n",
        "plt.xlabel('Input Current (I)')\n",
        "plt.ylabel('Firing Frequency (Hz)')\n",
        "plt.grid(True)\n",
        "plt.show()"
      ],
      "metadata": {
        "id": "fIqeRXewRM15"
      },
      "execution_count": null,
      "outputs": []
    },
    {
      "cell_type": "markdown",
      "source": [
        "## Task 4"
      ],
      "metadata": {
        "id": "_HnNWQAXtEQt"
      }
    },
    {
      "cell_type": "markdown",
      "source": [
        "### a)"
      ],
      "metadata": {
        "id": "ZNgGMLlxtFYD"
      }
    },
    {
      "cell_type": "code",
      "source": [
        "#Task 4a code:\n",
        "import numpy as np\n",
        "import matplotlib.pyplot as plt\n",
        "\n",
        "def voltage_profile_ratio(x, V0, R, Rm, Cm):\n",
        "    \"\"\"\n",
        "    Calculates the voltage profile ratio Vx/V0 along the cable.\n",
        "\n",
        "    Parameters:\n",
        "        x (array-like): Array of positions.\n",
        "        V0 (float): Initial voltage at origin.\n",
        "        R (float): Axial resistance per unit length.\n",
        "        Rm (float): Membrane resistance per unit length.\n",
        "        Cm (float): Membrane capacitance per unit length.\n",
        "\n",
        "    Returns:\n",
        "        array: Voltage profile ratio Vx/V0.\n",
        "    \"\"\"\n",
        "    # Complete function\n",
        "\n",
        "# Define parameters\n",
        "V0 = 1.0  # Initial voltage at origin\n",
        "R = 1.0  # Axial resistance per unit length\n",
        "Rm = 1.0  # Membrane resistance per unit length\n",
        "\n",
        "# Generate positions\n",
        "x = np.linspace(-5, 5, 100)\n",
        "\n",
        "# Calculate voltage profile ratio\n",
        "Vx_V0 = voltage_profile_ratio(x, V0, R, Rm, Cm)\n",
        "\n",
        "# Plot\n",
        "plt.plot(x, Vx_V0, label='Voltage Profile Ratio')\n",
        "plt.xlabel('Position (x)')\n",
        "plt.ylabel('Voltage Profile Ratio (Vx/V0)')\n",
        "plt.title('Voltage Profile Ratio along Cable')\n",
        "plt.ylim(0, 1)\n",
        "plt.legend()\n",
        "plt.grid(True)\n",
        "plt.show()\n"
      ],
      "metadata": {
        "id": "VR0oUnQOVEMK"
      },
      "execution_count": null,
      "outputs": []
    }
  ]
}